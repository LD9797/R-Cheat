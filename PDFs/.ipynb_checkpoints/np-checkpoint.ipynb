{
 "cells": [
  {
   "cell_type": "code",
   "execution_count": 1,
   "id": "d510afc2",
   "metadata": {},
   "outputs": [
    {
     "name": "stderr",
     "output_type": "stream",
     "text": [
      "Loading required package: psych\n",
      "\n",
      "Loading required package: FSA\n",
      "\n",
      "## FSA v0.9.4. See citation('FSA') if used in publication.\n",
      "## Run fishR() for related website and fishR('IFAR') for related book.\n",
      "\n",
      "\n",
      "Attaching package: 'FSA'\n",
      "\n",
      "\n",
      "The following object is masked from 'package:psych':\n",
      "\n",
      "    headtail\n",
      "\n",
      "\n",
      "Loading required package: ggplot2\n",
      "\n",
      "\n",
      "Attaching package: 'ggplot2'\n",
      "\n",
      "\n",
      "The following objects are masked from 'package:psych':\n",
      "\n",
      "    %+%, alpha\n",
      "\n",
      "\n",
      "Loading required package: car\n",
      "\n",
      "Loading required package: carData\n",
      "\n",
      "Registered S3 methods overwritten by 'car':\n",
      "  method       from\n",
      "  hist.boot    FSA \n",
      "  confint.boot FSA \n",
      "\n",
      "\n",
      "Attaching package: 'car'\n",
      "\n",
      "\n",
      "The following object is masked from 'package:FSA':\n",
      "\n",
      "    bootCase\n",
      "\n",
      "\n",
      "The following object is masked from 'package:psych':\n",
      "\n",
      "    logit\n",
      "\n",
      "\n",
      "Loading required package: lattice\n",
      "\n",
      "Loading required package: multcompView\n",
      "\n",
      "Loading required package: rcompanion\n",
      "\n",
      "\n",
      "Attaching package: 'rcompanion'\n",
      "\n",
      "\n",
      "The following object is masked from 'package:psych':\n",
      "\n",
      "    phi\n",
      "\n",
      "\n"
     ]
    },
    {
     "data": {
      "text/html": [
       "<table class=\"dataframe\">\n",
       "<caption>A data.frame: 9 × 3</caption>\n",
       "<thead>\n",
       "\t<tr><th></th><th scope=col>Algoritmo</th><th scope=col>Rendimiento</th><th scope=col>Rendimiento.f</th></tr>\n",
       "\t<tr><th></th><th scope=col>&lt;fct&gt;</th><th scope=col>&lt;chr&gt;</th><th scope=col>&lt;ord&gt;</th></tr>\n",
       "</thead>\n",
       "<tbody>\n",
       "\t<tr><th scope=row>1</th><td>Algoritmo A</td><td>3  </td><td>3 </td></tr>\n",
       "\t<tr><th scope=row>2</th><td>Algoritmo A</td><td>5  </td><td>5 </td></tr>\n",
       "\t<tr><th scope=row>3</th><td>Algoritmo A</td><td>4  </td><td>4 </td></tr>\n",
       "\t<tr><th scope=row>4</th><td>Algoritmo A</td><td>4  </td><td>4 </td></tr>\n",
       "\t<tr><th scope=row>...</th><td>NA         </td><td>...</td><td>NA</td></tr>\n",
       "\t<tr><th scope=row>57</th><td>Algoritmo C</td><td>5  </td><td>5 </td></tr>\n",
       "\t<tr><th scope=row>58</th><td>Algoritmo C</td><td>4  </td><td>4 </td></tr>\n",
       "\t<tr><th scope=row>59</th><td>Algoritmo C</td><td>4  </td><td>4 </td></tr>\n",
       "\t<tr><th scope=row>60</th><td>Algoritmo C</td><td>3  </td><td>3 </td></tr>\n",
       "</tbody>\n",
       "</table>\n"
      ],
      "text/latex": [
       "A data.frame: 9 × 3\n",
       "\\begin{tabular}{r|lll}\n",
       "  & Algoritmo & Rendimiento & Rendimiento.f\\\\\n",
       "  & <fct> & <chr> & <ord>\\\\\n",
       "\\hline\n",
       "\t1 & Algoritmo A & 3   & 3 \\\\\n",
       "\t2 & Algoritmo A & 5   & 5 \\\\\n",
       "\t3 & Algoritmo A & 4   & 4 \\\\\n",
       "\t4 & Algoritmo A & 4   & 4 \\\\\n",
       "\t... & NA          & ... & NA\\\\\n",
       "\t57 & Algoritmo C & 5   & 5 \\\\\n",
       "\t58 & Algoritmo C & 4   & 4 \\\\\n",
       "\t59 & Algoritmo C & 4   & 4 \\\\\n",
       "\t60 & Algoritmo C & 3   & 3 \\\\\n",
       "\\end{tabular}\n"
      ],
      "text/markdown": [
       "\n",
       "A data.frame: 9 × 3\n",
       "\n",
       "| <!--/--> | Algoritmo &lt;fct&gt; | Rendimiento &lt;chr&gt; | Rendimiento.f &lt;ord&gt; |\n",
       "|---|---|---|---|\n",
       "| 1 | Algoritmo A | 3   | 3  |\n",
       "| 2 | Algoritmo A | 5   | 5  |\n",
       "| 3 | Algoritmo A | 4   | 4  |\n",
       "| 4 | Algoritmo A | 4   | 4  |\n",
       "| ... | NA          | ... | NA |\n",
       "| 57 | Algoritmo C | 5   | 5  |\n",
       "| 58 | Algoritmo C | 4   | 4  |\n",
       "| 59 | Algoritmo C | 4   | 4  |\n",
       "| 60 | Algoritmo C | 3   | 3  |\n",
       "\n"
      ],
      "text/plain": [
       "    Algoritmo   Rendimiento Rendimiento.f\n",
       "1   Algoritmo A 3           3            \n",
       "2   Algoritmo A 5           5            \n",
       "3   Algoritmo A 4           4            \n",
       "4   Algoritmo A 4           4            \n",
       "... NA          ...         NA           \n",
       "57  Algoritmo C 5           5            \n",
       "58  Algoritmo C 4           4            \n",
       "59  Algoritmo C 4           4            \n",
       "60  Algoritmo C 3           3            "
      ]
     },
     "metadata": {},
     "output_type": "display_data"
    },
    {
     "name": "stdout",
     "output_type": "stream",
     "text": [
      "'data.frame':\t60 obs. of  3 variables:\n",
      " $ Algoritmo    : Factor w/ 3 levels \"Algoritmo A\",..: 1 1 1 1 1 1 1 1 1 1 ...\n",
      " $ Rendimiento  : int  3 5 4 4 4 4 4 4 5 5 ...\n",
      " $ Rendimiento.f: Ord.factor w/ 5 levels \"1\"<\"2\"<\"3\"<\"4\"<..: 3 5 4 4 4 4 4 4 5 5 ...\n"
     ]
    },
    {
     "data": {
      "text/plain": [
       "       Algoritmo   Rendimiento  Rendimiento.f\n",
       " Algoritmo A:20   Min.   :1.0   1: 2         \n",
       " Algoritmo B:20   1st Qu.:3.0   2:12         \n",
       " Algoritmo C:20   Median :4.0   3:10         \n",
       "                  Mean   :3.5   4:26         \n",
       "                  3rd Qu.:4.0   5:10         \n",
       "                  Max.   :5.0                "
      ]
     },
     "metadata": {},
     "output_type": "display_data"
    },
    {
     "data": {
      "text/plain": [
       "             Rendimiento.f\n",
       "Algoritmo      1  2  3  4  5\n",
       "  Algoritmo A  0  0  2 12  6\n",
       "  Algoritmo B  2 12  4  2  0\n",
       "  Algoritmo C  0  0  4 12  4"
      ]
     },
     "metadata": {},
     "output_type": "display_data"
    },
    {
     "data": {
      "text/plain": [
       "             Rendimiento.f\n",
       "Algoritmo       1   2   3   4   5\n",
       "  Algoritmo A 0.0 0.0 0.1 0.6 0.3\n",
       "  Algoritmo B 0.1 0.6 0.2 0.1 0.0\n",
       "  Algoritmo C 0.0 0.0 0.2 0.6 0.2"
      ]
     },
     "metadata": {},
     "output_type": "display_data"
    },
    {
     "data": {
      "text/html": [
       "<table class=\"dataframe\">\n",
       "<caption>A data.frame: 3 × 9</caption>\n",
       "<thead>\n",
       "\t<tr><th scope=col>Algoritmo</th><th scope=col>n</th><th scope=col>mean</th><th scope=col>sd</th><th scope=col>min</th><th scope=col>Q1</th><th scope=col>median</th><th scope=col>Q3</th><th scope=col>max</th></tr>\n",
       "\t<tr><th scope=col>&lt;fct&gt;</th><th scope=col>&lt;dbl&gt;</th><th scope=col>&lt;dbl&gt;</th><th scope=col>&lt;dbl&gt;</th><th scope=col>&lt;dbl&gt;</th><th scope=col>&lt;dbl&gt;</th><th scope=col>&lt;dbl&gt;</th><th scope=col>&lt;dbl&gt;</th><th scope=col>&lt;dbl&gt;</th></tr>\n",
       "</thead>\n",
       "<tbody>\n",
       "\t<tr><td>Algoritmo A</td><td>20</td><td>4.2</td><td>0.616</td><td>3</td><td>4</td><td>4</td><td>5</td><td>5</td></tr>\n",
       "\t<tr><td>Algoritmo B</td><td>20</td><td>2.3</td><td>0.801</td><td>1</td><td>2</td><td>2</td><td>3</td><td>4</td></tr>\n",
       "\t<tr><td>Algoritmo C</td><td>20</td><td>4.0</td><td>0.649</td><td>3</td><td>4</td><td>4</td><td>4</td><td>5</td></tr>\n",
       "</tbody>\n",
       "</table>\n"
      ],
      "text/latex": [
       "A data.frame: 3 × 9\n",
       "\\begin{tabular}{lllllllll}\n",
       " Algoritmo & n & mean & sd & min & Q1 & median & Q3 & max\\\\\n",
       " <fct> & <dbl> & <dbl> & <dbl> & <dbl> & <dbl> & <dbl> & <dbl> & <dbl>\\\\\n",
       "\\hline\n",
       "\t Algoritmo A & 20 & 4.2 & 0.616 & 3 & 4 & 4 & 5 & 5\\\\\n",
       "\t Algoritmo B & 20 & 2.3 & 0.801 & 1 & 2 & 2 & 3 & 4\\\\\n",
       "\t Algoritmo C & 20 & 4.0 & 0.649 & 3 & 4 & 4 & 4 & 5\\\\\n",
       "\\end{tabular}\n"
      ],
      "text/markdown": [
       "\n",
       "A data.frame: 3 × 9\n",
       "\n",
       "| Algoritmo &lt;fct&gt; | n &lt;dbl&gt; | mean &lt;dbl&gt; | sd &lt;dbl&gt; | min &lt;dbl&gt; | Q1 &lt;dbl&gt; | median &lt;dbl&gt; | Q3 &lt;dbl&gt; | max &lt;dbl&gt; |\n",
       "|---|---|---|---|---|---|---|---|---|\n",
       "| Algoritmo A | 20 | 4.2 | 0.616 | 3 | 4 | 4 | 5 | 5 |\n",
       "| Algoritmo B | 20 | 2.3 | 0.801 | 1 | 2 | 2 | 3 | 4 |\n",
       "| Algoritmo C | 20 | 4.0 | 0.649 | 3 | 4 | 4 | 4 | 5 |\n",
       "\n"
      ],
      "text/plain": [
       "  Algoritmo   n  mean sd    min Q1 median Q3 max\n",
       "1 Algoritmo A 20 4.2  0.616 3   4  4      5  5  \n",
       "2 Algoritmo B 20 2.3  0.801 1   2  2      3  4  \n",
       "3 Algoritmo C 20 4.0  0.649 3   4  4      4  5  "
      ]
     },
     "metadata": {},
     "output_type": "display_data"
    },
    {
     "data": {
      "text/plain": [
       "\n",
       "\tKruskal-Wallis rank sum test\n",
       "\n",
       "data:  Rendimiento by Algoritmo\n",
       "Kruskal-Wallis chi-squared = 34.265, df = 2, p-value = 3.625e-08\n"
      ]
     },
     "metadata": {},
     "output_type": "display_data"
    },
    {
     "data": {
      "text/html": [
       "<style>\n",
       ".list-inline {list-style: none; margin:0; padding: 0}\n",
       ".list-inline>li {display: inline-block}\n",
       ".list-inline>li:not(:last-child)::after {content: \"\\00b7\"; padding: 0 .5ex}\n",
       "</style>\n",
       "<ol class=list-inline><li>'Algoritmo A'</li><li>'Algoritmo B'</li><li>'Algoritmo C'</li></ol>\n"
      ],
      "text/latex": [
       "\\begin{enumerate*}\n",
       "\\item 'Algoritmo A'\n",
       "\\item 'Algoritmo B'\n",
       "\\item 'Algoritmo C'\n",
       "\\end{enumerate*}\n"
      ],
      "text/markdown": [
       "1. 'Algoritmo A'\n",
       "2. 'Algoritmo B'\n",
       "3. 'Algoritmo C'\n",
       "\n",
       "\n"
      ],
      "text/plain": [
       "[1] \"Algoritmo A\" \"Algoritmo B\" \"Algoritmo C\""
      ]
     },
     "metadata": {},
     "output_type": "display_data"
    },
    {
     "name": "stderr",
     "output_type": "stream",
     "text": [
      "Dunn (1964) Kruskal-Wallis multiple comparison\n",
      "\n",
      "  p-values adjusted with the Benjamini-Hochberg method.\n",
      "\n",
      "\n"
     ]
    },
    {
     "data": {
      "text/plain": [
       "                 Comparison          Z      P.unadj        P.adj\n",
       "1 Algoritmo A - Algoritmo B  5.3776947 7.544560e-08 2.263368e-07\n",
       "2 Algoritmo A - Algoritmo C  0.6865142 4.923889e-01 4.923889e-01\n",
       "3 Algoritmo B - Algoritmo C -4.6911805 2.716332e-06 4.074498e-06"
      ]
     },
     "metadata": {},
     "output_type": "display_data"
    },
    {
     "data": {
      "text/html": [
       "<table class=\"dataframe\">\n",
       "<caption>A data.frame: 3 × 4</caption>\n",
       "<thead>\n",
       "\t<tr><th scope=col>Comparison</th><th scope=col>Z</th><th scope=col>P.unadj</th><th scope=col>P.adj</th></tr>\n",
       "\t<tr><th scope=col>&lt;chr&gt;</th><th scope=col>&lt;dbl&gt;</th><th scope=col>&lt;dbl&gt;</th><th scope=col>&lt;dbl&gt;</th></tr>\n",
       "</thead>\n",
       "<tbody>\n",
       "\t<tr><td>Algoritmo A - Algoritmo B</td><td> 5.3776947</td><td>7.544560e-08</td><td>2.263368e-07</td></tr>\n",
       "\t<tr><td>Algoritmo A - Algoritmo C</td><td> 0.6865142</td><td>4.923889e-01</td><td>4.923889e-01</td></tr>\n",
       "\t<tr><td>Algoritmo B - Algoritmo C</td><td>-4.6911805</td><td>2.716332e-06</td><td>4.074498e-06</td></tr>\n",
       "</tbody>\n",
       "</table>\n"
      ],
      "text/latex": [
       "A data.frame: 3 × 4\n",
       "\\begin{tabular}{llll}\n",
       " Comparison & Z & P.unadj & P.adj\\\\\n",
       " <chr> & <dbl> & <dbl> & <dbl>\\\\\n",
       "\\hline\n",
       "\t Algoritmo A - Algoritmo B &  5.3776947 & 7.544560e-08 & 2.263368e-07\\\\\n",
       "\t Algoritmo A - Algoritmo C &  0.6865142 & 4.923889e-01 & 4.923889e-01\\\\\n",
       "\t Algoritmo B - Algoritmo C & -4.6911805 & 2.716332e-06 & 4.074498e-06\\\\\n",
       "\\end{tabular}\n"
      ],
      "text/markdown": [
       "\n",
       "A data.frame: 3 × 4\n",
       "\n",
       "| Comparison &lt;chr&gt; | Z &lt;dbl&gt; | P.unadj &lt;dbl&gt; | P.adj &lt;dbl&gt; |\n",
       "|---|---|---|---|\n",
       "| Algoritmo A - Algoritmo B |  5.3776947 | 7.544560e-08 | 2.263368e-07 |\n",
       "| Algoritmo A - Algoritmo C |  0.6865142 | 4.923889e-01 | 4.923889e-01 |\n",
       "| Algoritmo B - Algoritmo C | -4.6911805 | 2.716332e-06 | 4.074498e-06 |\n",
       "\n"
      ],
      "text/plain": [
       "  Comparison                Z          P.unadj      P.adj       \n",
       "1 Algoritmo A - Algoritmo B  5.3776947 7.544560e-08 2.263368e-07\n",
       "2 Algoritmo A - Algoritmo C  0.6865142 4.923889e-01 4.923889e-01\n",
       "3 Algoritmo B - Algoritmo C -4.6911805 2.716332e-06 4.074498e-06"
      ]
     },
     "metadata": {},
     "output_type": "display_data"
    },
    {
     "data": {
      "text/html": [
       "<table class=\"dataframe\">\n",
       "<caption>A data.frame: 3 × 3</caption>\n",
       "<thead>\n",
       "\t<tr><th scope=col>Group</th><th scope=col>Letter</th><th scope=col>MonoLetter</th></tr>\n",
       "\t<tr><th scope=col>&lt;chr&gt;</th><th scope=col>&lt;chr&gt;</th><th scope=col>&lt;chr&gt;</th></tr>\n",
       "</thead>\n",
       "<tbody>\n",
       "\t<tr><td>AlgoritmoA</td><td>a</td><td>a </td></tr>\n",
       "\t<tr><td>AlgoritmoB</td><td>b</td><td> b</td></tr>\n",
       "\t<tr><td>AlgoritmoC</td><td>a</td><td>a </td></tr>\n",
       "</tbody>\n",
       "</table>\n"
      ],
      "text/latex": [
       "A data.frame: 3 × 3\n",
       "\\begin{tabular}{lll}\n",
       " Group & Letter & MonoLetter\\\\\n",
       " <chr> & <chr> & <chr>\\\\\n",
       "\\hline\n",
       "\t AlgoritmoA & a & a \\\\\n",
       "\t AlgoritmoB & b &  b\\\\\n",
       "\t AlgoritmoC & a & a \\\\\n",
       "\\end{tabular}\n"
      ],
      "text/markdown": [
       "\n",
       "A data.frame: 3 × 3\n",
       "\n",
       "| Group &lt;chr&gt; | Letter &lt;chr&gt; | MonoLetter &lt;chr&gt; |\n",
       "|---|---|---|\n",
       "| AlgoritmoA | a | a  |\n",
       "| AlgoritmoB | b |  b |\n",
       "| AlgoritmoC | a | a  |\n",
       "\n"
      ],
      "text/plain": [
       "  Group      Letter MonoLetter\n",
       "1 AlgoritmoA a      a         \n",
       "2 AlgoritmoB b       b        \n",
       "3 AlgoritmoC a      a         "
      ]
     },
     "metadata": {},
     "output_type": "display_data"
    },
    {
     "data": {
      "text/html": [
       "<table class=\"dataframe\">\n",
       "<caption>A data.frame: 3 × 6</caption>\n",
       "<thead>\n",
       "\t<tr><th scope=col>Algoritmo</th><th scope=col>n</th><th scope=col>Median</th><th scope=col>Conf.level</th><th scope=col>Percentile.lower</th><th scope=col>Percentile.upper</th></tr>\n",
       "\t<tr><th scope=col>&lt;fct&gt;</th><th scope=col>&lt;int&gt;</th><th scope=col>&lt;dbl&gt;</th><th scope=col>&lt;dbl&gt;</th><th scope=col>&lt;dbl&gt;</th><th scope=col>&lt;dbl&gt;</th></tr>\n",
       "</thead>\n",
       "<tbody>\n",
       "\t<tr><td>Algoritmo A</td><td>20</td><td>4</td><td>0.95</td><td>4</td><td>4.5</td></tr>\n",
       "\t<tr><td>Algoritmo B</td><td>20</td><td>2</td><td>0.95</td><td>2</td><td>2.5</td></tr>\n",
       "\t<tr><td>Algoritmo C</td><td>20</td><td>4</td><td>0.95</td><td>4</td><td>4.0</td></tr>\n",
       "</tbody>\n",
       "</table>\n"
      ],
      "text/latex": [
       "A data.frame: 3 × 6\n",
       "\\begin{tabular}{llllll}\n",
       " Algoritmo & n & Median & Conf.level & Percentile.lower & Percentile.upper\\\\\n",
       " <fct> & <int> & <dbl> & <dbl> & <dbl> & <dbl>\\\\\n",
       "\\hline\n",
       "\t Algoritmo A & 20 & 4 & 0.95 & 4 & 4.5\\\\\n",
       "\t Algoritmo B & 20 & 2 & 0.95 & 2 & 2.5\\\\\n",
       "\t Algoritmo C & 20 & 4 & 0.95 & 4 & 4.0\\\\\n",
       "\\end{tabular}\n"
      ],
      "text/markdown": [
       "\n",
       "A data.frame: 3 × 6\n",
       "\n",
       "| Algoritmo &lt;fct&gt; | n &lt;int&gt; | Median &lt;dbl&gt; | Conf.level &lt;dbl&gt; | Percentile.lower &lt;dbl&gt; | Percentile.upper &lt;dbl&gt; |\n",
       "|---|---|---|---|---|---|\n",
       "| Algoritmo A | 20 | 4 | 0.95 | 4 | 4.5 |\n",
       "| Algoritmo B | 20 | 2 | 0.95 | 2 | 2.5 |\n",
       "| Algoritmo C | 20 | 4 | 0.95 | 4 | 4.0 |\n",
       "\n"
      ],
      "text/plain": [
       "  Algoritmo   n  Median Conf.level Percentile.lower Percentile.upper\n",
       "1 Algoritmo A 20 4      0.95       4                4.5             \n",
       "2 Algoritmo B 20 2      0.95       2                2.5             \n",
       "3 Algoritmo C 20 4      0.95       4                4.0             "
      ]
     },
     "metadata": {},
     "output_type": "display_data"
    },
    {
     "name": "stderr",
     "output_type": "stream",
     "text": [
      "Warning message:\n",
      "\"\u001b[1m\u001b[22mUsing `size` aesthetic for lines was deprecated in ggplot2 3.4.0.\n",
      "\u001b[36mℹ\u001b[39m Please use `linewidth` instead.\"\n"
     ]
    },
    {
     "data": {
      "image/png": "[encoded data removed]",
      "text/plain": [
       "plot without title"
      ]
     },
     "metadata": {
      "image/png": {
       "height": 420,
       "width": 420
      }
     },
     "output_type": "display_data"
    },
    {
     "data": {
      "image/png": "[encoded data removed]",
      "text/plain": [
       "plot without title"
      ]
     },
     "metadata": {
      "image/png": {
       "height": 420,
       "width": 420
      }
     },
     "output_type": "display_data"
    }
   ],
   "source": [
    "# Kruskal-Wallis no paramétrica.\n",
    "\n",
    "# Librerías.\n",
    "if(!require(psych)){install.packages(\"psych\")}\n",
    "if(!require(FSA)){install.packages(\"FSA\")}\n",
    "if(!require(ggplot2)){install.packages(\"ggplot2\")}\n",
    "if(!require(car)){install.packages(\"car\")}\n",
    "if(!require(lattice)){install.packages(\"lattice\")}\n",
    "if(!require(multcompView)){install.packages(\"multcompView\")}\n",
    "if(!require(rcompanion)){install.packages(\"rcompanion\")}\n",
    "\n",
    "\n",
    "# 1. Carga inicial de datos.\n",
    "ln <- (\"\n",
    "Algoritmo         Rendimiento\n",
    "'Algoritmo A'         3\n",
    "'Algoritmo A'         5\n",
    "'Algoritmo A'         4\n",
    "'Algoritmo A'         4\n",
    "'Algoritmo A'         4\n",
    "'Algoritmo A'         4\n",
    "'Algoritmo A'         4\n",
    "'Algoritmo A'         4\n",
    "'Algoritmo A'         5\n",
    "'Algoritmo A'         5\n",
    "'Algoritmo A'         3\n",
    "'Algoritmo A'         5\n",
    "'Algoritmo A'         4\n",
    "'Algoritmo A'         4\n",
    "'Algoritmo A'         4\n",
    "'Algoritmo A'         4\n",
    "'Algoritmo A'         4\n",
    "'Algoritmo A'         4\n",
    "'Algoritmo A'         5\n",
    "'Algoritmo A'         5\n",
    "'Algoritmo B'         2\n",
    "'Algoritmo B'         4\n",
    "'Algoritmo B'         2\n",
    "'Algoritmo B'         2\n",
    "'Algoritmo B'         1\n",
    "'Algoritmo B'         2\n",
    "'Algoritmo B'         3\n",
    "'Algoritmo B'         2\n",
    "'Algoritmo B'         2\n",
    "'Algoritmo B'         3\n",
    "'Algoritmo B'         2\n",
    "'Algoritmo B'         4\n",
    "'Algoritmo B'         2\n",
    "'Algoritmo B'         2\n",
    "'Algoritmo B'         1\n",
    "'Algoritmo B'         2\n",
    "'Algoritmo B'         3\n",
    "'Algoritmo B'         2\n",
    "'Algoritmo B'         2\n",
    "'Algoritmo B'         3\n",
    "'Algoritmo C'         4\n",
    "'Algoritmo C'         4\n",
    "'Algoritmo C'         4\n",
    "'Algoritmo C'         4\n",
    "'Algoritmo C'         5\n",
    "'Algoritmo C'         3\n",
    "'Algoritmo C'         5\n",
    "'Algoritmo C'         4\n",
    "'Algoritmo C'         4\n",
    "'Algoritmo C'         3\n",
    "'Algoritmo C'         4\n",
    "'Algoritmo C'         4\n",
    "'Algoritmo C'         4\n",
    "'Algoritmo C'         4\n",
    "'Algoritmo C'         5\n",
    "'Algoritmo C'         3\n",
    "'Algoritmo C'         5\n",
    "'Algoritmo C'         4\n",
    "'Algoritmo C'         4\n",
    "'Algoritmo C'         3\")\n",
    "\n",
    "# Se introduce la tabla.\n",
    "Data <- read.table(textConnection(ln), header=TRUE)\n",
    "# Ordenamos los factores y craemos una variable puntaje del rendimiento.\n",
    "Data$Algoritmo <- factor(Data$Algoritmo, levels = unique(Data$Algoritmo))\n",
    "Data$Rendimiento.f <- factor(Data$Rendimiento, ordered = TRUE) # Variable puntaje.\n",
    "\n",
    "# 2. Verificación de la lectura de datos.\n",
    "library(psych)\n",
    "headTail(Data)\n",
    "str(Data)\n",
    "summary(Data)\n",
    "rm(ln)\n",
    "\n",
    "# 3. Resumimos la tabla.\n",
    "xtabs(~ Algoritmo + Rendimiento.f, data = Data)\n",
    "\n",
    "# Ponderación entre 0 a 1.\n",
    "XT <- xtabs(~ Algoritmo + Rendimiento.f, data = Data)\n",
    "prop.table(XT, margin = 1)\n",
    "\n",
    "# 4. Gráfico de barras por grupo.\n",
    "library(lattice)\n",
    "histogram(~ Rendimiento.f | Algoritmo, data = Data, layout = c(1,3))\n",
    "\n",
    "# 5. Resumen.\n",
    "library(FSA)\n",
    "Summarize(Rendimiento ~ Algoritmo, data =  Data, digits = 3)\n",
    "\n",
    "# 6. Prueba Kruskal-Wallis.\n",
    "kruskal.test(Rendimiento ~ Algoritmo, data = Data)\n",
    "\n",
    "# 7. Análisis post-hoc.\n",
    "Data$Algoritmo <- factor(Data$Algoritmo, levels = c(\"Algoritmo A\",\n",
    "                                                    \"Algoritmo B\",\n",
    "                                                    \"Algoritmo C\"))\n",
    "levels(Data$Algoritmo)\n",
    "\n",
    "library(FSA)\n",
    "DT <- dunnTest(Rendimiento ~ Algoritmo, data = Data, method = \"bh\")\n",
    "DT\n",
    "\n",
    "# 8. Despliege compacto con letras.\n",
    "PT <- DT$res\n",
    "PT\n",
    "library(rcompanion)\n",
    "cldList(P.adj ~ Comparison, data = PT, threshold = 0.05)\n",
    "\n",
    "# 9. Gráfico de medianas en intervalos de confianza.\n",
    "library(rcompanion)\n",
    "Sum <- groupwiseMedian(Rendimiento ~ Algoritmo,\n",
    "                       data = Data, conf = 0.95, R = 5000, percentile = TRUE,\n",
    "                       bca = FALSE, digits = 3)\n",
    "Sum\n",
    "\n",
    "X <- 1:3\n",
    "Y <- Sum$Percentile.upper + 0.2\n",
    "Label <- c(\"a\", \"b\", \"a\")\n",
    "library(ggplot2)\n",
    "ggplot(Sum, aes(x = Algoritmo, y = Median)) + geom_errorbar(aes(ymin = Percentile.lower,\n",
    "                                                           ymax = Percentile.upper),\n",
    "       width = 0.05, size = 0.5) +\n",
    "       geom_point(shape = 15, size = 4) +\n",
    "       theme_bw() +\n",
    "       theme(axis.title = element_text(face = \"bold\")) +\n",
    "       ylab(\"Mediana de puntaje de rendimiento\") +\n",
    "       annotate(\"text\", x = X, y = Y, label = Label)\n"
   ]
  },
  {
   "cell_type": "code",
   "execution_count": null,
   "id": "a76cf0df",
   "metadata": {},
   "outputs": [],
   "source": []
  }
 ],
 "metadata": {
  "kernelspec": {
   "display_name": "R",
   "language": "R",
   "name": "ir"
  },
  "language_info": {
   "codemirror_mode": "r",
   "file_extension": ".r",
   "mimetype": "text/x-r-source",
   "name": "R",
   "pygments_lexer": "r",
   "version": "4.2.2"
  }
 },
 "nbformat": 4,
 "nbformat_minor": 5
}
