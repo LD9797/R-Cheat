{
 "cells": [
  {
   "cell_type": "code",
   "execution_count": 1,
   "id": "d0d1644d",
   "metadata": {},
   "outputs": [
    {
     "name": "stderr",
     "output_type": "stream",
     "text": [
      "Loading required package: psych\n",
      "\n",
      "Loading required package: FSA\n",
      "\n",
      "## FSA v0.9.4. See citation('FSA') if used in publication.\n",
      "## Run fishR() for related website and fishR('IFAR') for related book.\n",
      "\n",
      "\n",
      "Attaching package: 'FSA'\n",
      "\n",
      "\n",
      "The following object is masked from 'package:psych':\n",
      "\n",
      "    headtail\n",
      "\n",
      "\n",
      "Loading required package: ggplot2\n",
      "\n",
      "\n",
      "Attaching package: 'ggplot2'\n",
      "\n",
      "\n",
      "The following objects are masked from 'package:psych':\n",
      "\n",
      "    %+%, alpha\n",
      "\n",
      "\n",
      "Loading required package: car\n",
      "\n",
      "Loading required package: carData\n",
      "\n",
      "Registered S3 methods overwritten by 'car':\n",
      "  method       from\n",
      "  hist.boot    FSA \n",
      "  confint.boot FSA \n",
      "\n",
      "\n",
      "Attaching package: 'car'\n",
      "\n",
      "\n",
      "The following object is masked from 'package:FSA':\n",
      "\n",
      "    bootCase\n",
      "\n",
      "\n",
      "The following object is masked from 'package:psych':\n",
      "\n",
      "    logit\n",
      "\n",
      "\n",
      "Loading required package: multcompView\n",
      "\n",
      "Loading required package: lsmeans\n",
      "\n",
      "Loading required package: emmeans\n",
      "\n",
      "The 'lsmeans' package is now basically a front end for 'emmeans'.\n",
      "Users are encouraged to switch the rest of the way.\n",
      "See help('transition') for more information, including how to\n",
      "convert old 'lsmeans' objects and scripts to work with 'emmeans'.\n",
      "\n",
      "Loading required package: rcompanion\n",
      "\n",
      "\n",
      "Attaching package: 'rcompanion'\n",
      "\n",
      "\n",
      "The following object is masked from 'package:psych':\n",
      "\n",
      "    phi\n",
      "\n",
      "\n"
     ]
    },
    {
     "data": {
      "text/html": [
       "<table class=\"dataframe\">\n",
       "<caption>A data.frame: 9 × 3</caption>\n",
       "<thead>\n",
       "\t<tr><th></th><th scope=col>Algoritmo</th><th scope=col>Computadora</th><th scope=col>Tiempo</th></tr>\n",
       "\t<tr><th></th><th scope=col>&lt;fct&gt;</th><th scope=col>&lt;fct&gt;</th><th scope=col>&lt;chr&gt;</th></tr>\n",
       "</thead>\n",
       "<tbody>\n",
       "\t<tr><th scope=row>1</th><td>Algoritmo A</td><td>Computadora 1</td><td>12976</td></tr>\n",
       "\t<tr><th scope=row>2</th><td>Algoritmo A</td><td>Computadora 1</td><td>14854</td></tr>\n",
       "\t<tr><th scope=row>3</th><td>Algoritmo A</td><td>Computadora 1</td><td>13627</td></tr>\n",
       "\t<tr><th scope=row>4</th><td>Algoritmo A</td><td>Computadora 1</td><td>9850 </td></tr>\n",
       "\t<tr><th scope=row>...</th><td>NA         </td><td>NA           </td><td>...  </td></tr>\n",
       "\t<tr><th scope=row>117</th><td>Algoritmo C</td><td>Computadora 2</td><td>10991</td></tr>\n",
       "\t<tr><th scope=row>118</th><td>Algoritmo C</td><td>Computadora 2</td><td>13048</td></tr>\n",
       "\t<tr><th scope=row>119</th><td>Algoritmo C</td><td>Computadora 2</td><td>15078</td></tr>\n",
       "\t<tr><th scope=row>120</th><td>Algoritmo C</td><td>Computadora 2</td><td>13443</td></tr>\n",
       "</tbody>\n",
       "</table>\n"
      ],
      "text/latex": [
       "A data.frame: 9 × 3\n",
       "\\begin{tabular}{r|lll}\n",
       "  & Algoritmo & Computadora & Tiempo\\\\\n",
       "  & <fct> & <fct> & <chr>\\\\\n",
       "\\hline\n",
       "\t1 & Algoritmo A & Computadora 1 & 12976\\\\\n",
       "\t2 & Algoritmo A & Computadora 1 & 14854\\\\\n",
       "\t3 & Algoritmo A & Computadora 1 & 13627\\\\\n",
       "\t4 & Algoritmo A & Computadora 1 & 9850 \\\\\n",
       "\t... & NA          & NA            & ...  \\\\\n",
       "\t117 & Algoritmo C & Computadora 2 & 10991\\\\\n",
       "\t118 & Algoritmo C & Computadora 2 & 13048\\\\\n",
       "\t119 & Algoritmo C & Computadora 2 & 15078\\\\\n",
       "\t120 & Algoritmo C & Computadora 2 & 13443\\\\\n",
       "\\end{tabular}\n"
      ],
      "text/markdown": [
       "\n",
       "A data.frame: 9 × 3\n",
       "\n",
       "| <!--/--> | Algoritmo &lt;fct&gt; | Computadora &lt;fct&gt; | Tiempo &lt;chr&gt; |\n",
       "|---|---|---|---|\n",
       "| 1 | Algoritmo A | Computadora 1 | 12976 |\n",
       "| 2 | Algoritmo A | Computadora 1 | 14854 |\n",
       "| 3 | Algoritmo A | Computadora 1 | 13627 |\n",
       "| 4 | Algoritmo A | Computadora 1 | 9850  |\n",
       "| ... | NA          | NA            | ...   |\n",
       "| 117 | Algoritmo C | Computadora 2 | 10991 |\n",
       "| 118 | Algoritmo C | Computadora 2 | 13048 |\n",
       "| 119 | Algoritmo C | Computadora 2 | 15078 |\n",
       "| 120 | Algoritmo C | Computadora 2 | 13443 |\n",
       "\n"
      ],
      "text/plain": [
       "    Algoritmo   Computadora   Tiempo\n",
       "1   Algoritmo A Computadora 1 12976 \n",
       "2   Algoritmo A Computadora 1 14854 \n",
       "3   Algoritmo A Computadora 1 13627 \n",
       "4   Algoritmo A Computadora 1 9850  \n",
       "... NA          NA            ...   \n",
       "117 Algoritmo C Computadora 2 10991 \n",
       "118 Algoritmo C Computadora 2 13048 \n",
       "119 Algoritmo C Computadora 2 15078 \n",
       "120 Algoritmo C Computadora 2 13443 "
      ]
     },
     "metadata": {},
     "output_type": "display_data"
    },
    {
     "name": "stdout",
     "output_type": "stream",
     "text": [
      "'data.frame':\t120 obs. of  3 variables:\n",
      " $ Algoritmo  : Factor w/ 3 levels \"Algoritmo A\",..: 1 1 1 1 1 1 1 1 1 1 ...\n",
      " $ Computadora: Factor w/ 2 levels \"Computadora 1\",..: 1 1 1 1 1 1 1 1 1 1 ...\n",
      " $ Tiempo     : int  12976 14854 13627 9850 14466 11598 13184 13096 14895 15986 ...\n"
     ]
    },
    {
     "data": {
      "text/plain": [
       "       Algoritmo         Computadora     Tiempo     \n",
       " Algoritmo A:40   Computadora 1:60   Min.   : 9018  \n",
       " Algoritmo B:40   Computadora 2:60   1st Qu.:11258  \n",
       " Algoritmo C:40                      Median :12288  \n",
       "                                     Mean   :12382  \n",
       "                                     3rd Qu.:13546  \n",
       "                                     Max.   :17000  "
      ]
     },
     "metadata": {},
     "output_type": "display_data"
    },
    {
     "data": {
      "text/html": [
       "<table class=\"dataframe\">\n",
       "<caption>A data.frame: 6 × 10</caption>\n",
       "<thead>\n",
       "\t<tr><th scope=col>Algoritmo</th><th scope=col>Computadora</th><th scope=col>n</th><th scope=col>mean</th><th scope=col>sd</th><th scope=col>min</th><th scope=col>Q1</th><th scope=col>median</th><th scope=col>Q3</th><th scope=col>max</th></tr>\n",
       "\t<tr><th scope=col>&lt;fct&gt;</th><th scope=col>&lt;fct&gt;</th><th scope=col>&lt;dbl&gt;</th><th scope=col>&lt;dbl&gt;</th><th scope=col>&lt;dbl&gt;</th><th scope=col>&lt;dbl&gt;</th><th scope=col>&lt;dbl&gt;</th><th scope=col>&lt;dbl&gt;</th><th scope=col>&lt;dbl&gt;</th><th scope=col>&lt;dbl&gt;</th></tr>\n",
       "</thead>\n",
       "<tbody>\n",
       "\t<tr><td>Algoritmo A</td><td>Computadora 1</td><td>20</td><td>13093.65</td><td>1903.929</td><td> 9850</td><td>11673.0</td><td>13196.0</td><td>14563.00</td><td>16033</td></tr>\n",
       "\t<tr><td>Algoritmo B</td><td>Computadora 1</td><td>20</td><td>12505.60</td><td>1414.667</td><td>10067</td><td>11510.5</td><td>12154.5</td><td>13544.00</td><td>15297</td></tr>\n",
       "\t<tr><td>Algoritmo C</td><td>Computadora 1</td><td>20</td><td>11385.60</td><td>1420.394</td><td> 9148</td><td>10585.5</td><td>11606.5</td><td>12189.50</td><td>14155</td></tr>\n",
       "\t<tr><td>Algoritmo A</td><td>Computadora 2</td><td>20</td><td>11467.05</td><td>1645.540</td><td> 9018</td><td>10266.5</td><td>11551.0</td><td>12435.75</td><td>14670</td></tr>\n",
       "\t<tr><td>Algoritmo B</td><td>Computadora 2</td><td>20</td><td>12878.90</td><td>1935.371</td><td> 9506</td><td>11514.0</td><td>13016.5</td><td>14006.50</td><td>17000</td></tr>\n",
       "\t<tr><td>Algoritmo C</td><td>Computadora 2</td><td>20</td><td>12961.70</td><td>1807.597</td><td> 9364</td><td>11519.5</td><td>13090.5</td><td>14222.00</td><td>16367</td></tr>\n",
       "</tbody>\n",
       "</table>\n"
      ],
      "text/latex": [
       "A data.frame: 6 × 10\n",
       "\\begin{tabular}{llllllllll}\n",
       " Algoritmo & Computadora & n & mean & sd & min & Q1 & median & Q3 & max\\\\\n",
       " <fct> & <fct> & <dbl> & <dbl> & <dbl> & <dbl> & <dbl> & <dbl> & <dbl> & <dbl>\\\\\n",
       "\\hline\n",
       "\t Algoritmo A & Computadora 1 & 20 & 13093.65 & 1903.929 &  9850 & 11673.0 & 13196.0 & 14563.00 & 16033\\\\\n",
       "\t Algoritmo B & Computadora 1 & 20 & 12505.60 & 1414.667 & 10067 & 11510.5 & 12154.5 & 13544.00 & 15297\\\\\n",
       "\t Algoritmo C & Computadora 1 & 20 & 11385.60 & 1420.394 &  9148 & 10585.5 & 11606.5 & 12189.50 & 14155\\\\\n",
       "\t Algoritmo A & Computadora 2 & 20 & 11467.05 & 1645.540 &  9018 & 10266.5 & 11551.0 & 12435.75 & 14670\\\\\n",
       "\t Algoritmo B & Computadora 2 & 20 & 12878.90 & 1935.371 &  9506 & 11514.0 & 13016.5 & 14006.50 & 17000\\\\\n",
       "\t Algoritmo C & Computadora 2 & 20 & 12961.70 & 1807.597 &  9364 & 11519.5 & 13090.5 & 14222.00 & 16367\\\\\n",
       "\\end{tabular}\n"
      ],
      "text/markdown": [
       "\n",
       "A data.frame: 6 × 10\n",
       "\n",
       "| Algoritmo &lt;fct&gt; | Computadora &lt;fct&gt; | n &lt;dbl&gt; | mean &lt;dbl&gt; | sd &lt;dbl&gt; | min &lt;dbl&gt; | Q1 &lt;dbl&gt; | median &lt;dbl&gt; | Q3 &lt;dbl&gt; | max &lt;dbl&gt; |\n",
       "|---|---|---|---|---|---|---|---|---|---|\n",
       "| Algoritmo A | Computadora 1 | 20 | 13093.65 | 1903.929 |  9850 | 11673.0 | 13196.0 | 14563.00 | 16033 |\n",
       "| Algoritmo B | Computadora 1 | 20 | 12505.60 | 1414.667 | 10067 | 11510.5 | 12154.5 | 13544.00 | 15297 |\n",
       "| Algoritmo C | Computadora 1 | 20 | 11385.60 | 1420.394 |  9148 | 10585.5 | 11606.5 | 12189.50 | 14155 |\n",
       "| Algoritmo A | Computadora 2 | 20 | 11467.05 | 1645.540 |  9018 | 10266.5 | 11551.0 | 12435.75 | 14670 |\n",
       "| Algoritmo B | Computadora 2 | 20 | 12878.90 | 1935.371 |  9506 | 11514.0 | 13016.5 | 14006.50 | 17000 |\n",
       "| Algoritmo C | Computadora 2 | 20 | 12961.70 | 1807.597 |  9364 | 11519.5 | 13090.5 | 14222.00 | 16367 |\n",
       "\n"
      ],
      "text/plain": [
       "  Algoritmo   Computadora   n  mean     sd       min   Q1      median  Q3      \n",
       "1 Algoritmo A Computadora 1 20 13093.65 1903.929  9850 11673.0 13196.0 14563.00\n",
       "2 Algoritmo B Computadora 1 20 12505.60 1414.667 10067 11510.5 12154.5 13544.00\n",
       "3 Algoritmo C Computadora 1 20 11385.60 1420.394  9148 10585.5 11606.5 12189.50\n",
       "4 Algoritmo A Computadora 2 20 11467.05 1645.540  9018 10266.5 11551.0 12435.75\n",
       "5 Algoritmo B Computadora 2 20 12878.90 1935.371  9506 11514.0 13016.5 14006.50\n",
       "6 Algoritmo C Computadora 2 20 12961.70 1807.597  9364 11519.5 13090.5 14222.00\n",
       "  max  \n",
       "1 16033\n",
       "2 15297\n",
       "3 14155\n",
       "4 14670\n",
       "5 17000\n",
       "6 16367"
      ]
     },
     "metadata": {},
     "output_type": "display_data"
    },
    {
     "data": {
      "image/png": "[encoded data removed]",
      "text/plain": [
       "plot without title"
      ]
     },
     "metadata": {
      "image/png": {
       "height": 420,
       "width": 420
      }
     },
     "output_type": "display_data"
    },
    {
     "data": {
      "text/html": [
       "<table class=\"dataframe\">\n",
       "<caption>A data.frame: 3 × 6</caption>\n",
       "<thead>\n",
       "\t<tr><th scope=col>Algoritmo</th><th scope=col>n</th><th scope=col>Mean</th><th scope=col>Conf.level</th><th scope=col>Percentile.lower</th><th scope=col>Percentile.upper</th></tr>\n",
       "\t<tr><th scope=col>&lt;fct&gt;</th><th scope=col>&lt;int&gt;</th><th scope=col>&lt;dbl&gt;</th><th scope=col>&lt;dbl&gt;</th><th scope=col>&lt;dbl&gt;</th><th scope=col>&lt;dbl&gt;</th></tr>\n",
       "</thead>\n",
       "<tbody>\n",
       "\t<tr><td>Algoritmo A</td><td>40</td><td>12300</td><td>0.95</td><td>11700</td><td>12900</td></tr>\n",
       "\t<tr><td>Algoritmo B</td><td>40</td><td>12700</td><td>0.95</td><td>12200</td><td>13200</td></tr>\n",
       "\t<tr><td>Algoritmo C</td><td>40</td><td>12200</td><td>0.95</td><td>11600</td><td>12700</td></tr>\n",
       "</tbody>\n",
       "</table>\n"
      ],
      "text/latex": [
       "A data.frame: 3 × 6\n",
       "\\begin{tabular}{llllll}\n",
       " Algoritmo & n & Mean & Conf.level & Percentile.lower & Percentile.upper\\\\\n",
       " <fct> & <int> & <dbl> & <dbl> & <dbl> & <dbl>\\\\\n",
       "\\hline\n",
       "\t Algoritmo A & 40 & 12300 & 0.95 & 11700 & 12900\\\\\n",
       "\t Algoritmo B & 40 & 12700 & 0.95 & 12200 & 13200\\\\\n",
       "\t Algoritmo C & 40 & 12200 & 0.95 & 11600 & 12700\\\\\n",
       "\\end{tabular}\n"
      ],
      "text/markdown": [
       "\n",
       "A data.frame: 3 × 6\n",
       "\n",
       "| Algoritmo &lt;fct&gt; | n &lt;int&gt; | Mean &lt;dbl&gt; | Conf.level &lt;dbl&gt; | Percentile.lower &lt;dbl&gt; | Percentile.upper &lt;dbl&gt; |\n",
       "|---|---|---|---|---|---|\n",
       "| Algoritmo A | 40 | 12300 | 0.95 | 11700 | 12900 |\n",
       "| Algoritmo B | 40 | 12700 | 0.95 | 12200 | 13200 |\n",
       "| Algoritmo C | 40 | 12200 | 0.95 | 11600 | 12700 |\n",
       "\n"
      ],
      "text/plain": [
       "  Algoritmo   n  Mean  Conf.level Percentile.lower Percentile.upper\n",
       "1 Algoritmo A 40 12300 0.95       11700            12900           \n",
       "2 Algoritmo B 40 12700 0.95       12200            13200           \n",
       "3 Algoritmo C 40 12200 0.95       11600            12700           "
      ]
     },
     "metadata": {},
     "output_type": "display_data"
    },
    {
     "name": "stderr",
     "output_type": "stream",
     "text": [
      "Warning message:\n",
      "\"\u001b[1m\u001b[22mUsing `size` aesthetic for lines was deprecated in ggplot2 3.4.0.\n",
      "\u001b[36mℹ\u001b[39m Please use `linewidth` instead.\"\n"
     ]
    },
    {
     "data": {
      "image/png": "[encoded data removed]",
      "text/plain": [
       "plot without title"
      ]
     },
     "metadata": {
      "image/png": {
       "height": 420,
       "width": 420
      }
     },
     "output_type": "display_data"
    },
    {
     "data": {
      "text/html": [
       "<table class=\"dataframe\">\n",
       "<caption>A data.frame: 6 × 7</caption>\n",
       "<thead>\n",
       "\t<tr><th scope=col>Algoritmo</th><th scope=col>Computadora</th><th scope=col>n</th><th scope=col>Mean</th><th scope=col>Conf.level</th><th scope=col>Percentile.lower</th><th scope=col>Percentile.upper</th></tr>\n",
       "\t<tr><th scope=col>&lt;fct&gt;</th><th scope=col>&lt;fct&gt;</th><th scope=col>&lt;int&gt;</th><th scope=col>&lt;dbl&gt;</th><th scope=col>&lt;dbl&gt;</th><th scope=col>&lt;dbl&gt;</th><th scope=col>&lt;dbl&gt;</th></tr>\n",
       "</thead>\n",
       "<tbody>\n",
       "\t<tr><td>Algoritmo A</td><td>Computadora 1</td><td>20</td><td>13100</td><td>0.95</td><td>12300</td><td>13900</td></tr>\n",
       "\t<tr><td>Algoritmo A</td><td>Computadora 2</td><td>20</td><td>11500</td><td>0.95</td><td>10800</td><td>12200</td></tr>\n",
       "\t<tr><td>Algoritmo B</td><td>Computadora 1</td><td>20</td><td>12500</td><td>0.95</td><td>11900</td><td>13100</td></tr>\n",
       "\t<tr><td>Algoritmo B</td><td>Computadora 2</td><td>20</td><td>12900</td><td>0.95</td><td>12100</td><td>13700</td></tr>\n",
       "\t<tr><td>Algoritmo C</td><td>Computadora 1</td><td>20</td><td>11400</td><td>0.95</td><td>10800</td><td>12000</td></tr>\n",
       "\t<tr><td>Algoritmo C</td><td>Computadora 2</td><td>20</td><td>13000</td><td>0.95</td><td>12200</td><td>13700</td></tr>\n",
       "</tbody>\n",
       "</table>\n"
      ],
      "text/latex": [
       "A data.frame: 6 × 7\n",
       "\\begin{tabular}{lllllll}\n",
       " Algoritmo & Computadora & n & Mean & Conf.level & Percentile.lower & Percentile.upper\\\\\n",
       " <fct> & <fct> & <int> & <dbl> & <dbl> & <dbl> & <dbl>\\\\\n",
       "\\hline\n",
       "\t Algoritmo A & Computadora 1 & 20 & 13100 & 0.95 & 12300 & 13900\\\\\n",
       "\t Algoritmo A & Computadora 2 & 20 & 11500 & 0.95 & 10800 & 12200\\\\\n",
       "\t Algoritmo B & Computadora 1 & 20 & 12500 & 0.95 & 11900 & 13100\\\\\n",
       "\t Algoritmo B & Computadora 2 & 20 & 12900 & 0.95 & 12100 & 13700\\\\\n",
       "\t Algoritmo C & Computadora 1 & 20 & 11400 & 0.95 & 10800 & 12000\\\\\n",
       "\t Algoritmo C & Computadora 2 & 20 & 13000 & 0.95 & 12200 & 13700\\\\\n",
       "\\end{tabular}\n"
      ],
      "text/markdown": [
       "\n",
       "A data.frame: 6 × 7\n",
       "\n",
       "| Algoritmo &lt;fct&gt; | Computadora &lt;fct&gt; | n &lt;int&gt; | Mean &lt;dbl&gt; | Conf.level &lt;dbl&gt; | Percentile.lower &lt;dbl&gt; | Percentile.upper &lt;dbl&gt; |\n",
       "|---|---|---|---|---|---|---|\n",
       "| Algoritmo A | Computadora 1 | 20 | 13100 | 0.95 | 12300 | 13900 |\n",
       "| Algoritmo A | Computadora 2 | 20 | 11500 | 0.95 | 10800 | 12200 |\n",
       "| Algoritmo B | Computadora 1 | 20 | 12500 | 0.95 | 11900 | 13100 |\n",
       "| Algoritmo B | Computadora 2 | 20 | 12900 | 0.95 | 12100 | 13700 |\n",
       "| Algoritmo C | Computadora 1 | 20 | 11400 | 0.95 | 10800 | 12000 |\n",
       "| Algoritmo C | Computadora 2 | 20 | 13000 | 0.95 | 12200 | 13700 |\n",
       "\n"
      ],
      "text/plain": [
       "  Algoritmo   Computadora   n  Mean  Conf.level Percentile.lower\n",
       "1 Algoritmo A Computadora 1 20 13100 0.95       12300           \n",
       "2 Algoritmo A Computadora 2 20 11500 0.95       10800           \n",
       "3 Algoritmo B Computadora 1 20 12500 0.95       11900           \n",
       "4 Algoritmo B Computadora 2 20 12900 0.95       12100           \n",
       "5 Algoritmo C Computadora 1 20 11400 0.95       10800           \n",
       "6 Algoritmo C Computadora 2 20 13000 0.95       12200           \n",
       "  Percentile.upper\n",
       "1 13900           \n",
       "2 12200           \n",
       "3 13100           \n",
       "4 13700           \n",
       "5 12000           \n",
       "6 13700           "
      ]
     },
     "metadata": {},
     "output_type": "display_data"
    },
    {
     "data": {
      "image/png": "[encoded data removed]",
      "text/plain": [
       "plot without title"
      ]
     },
     "metadata": {
      "image/png": {
       "height": 420,
       "width": 420
      }
     },
     "output_type": "display_data"
    },
    {
     "data": {
      "text/plain": [
       "\n",
       "Call:\n",
       "lm(formula = Tiempo ~ Algoritmo + Computadora, data = Data)\n",
       "\n",
       "Residuals:\n",
       "    Min      1Q  Median      3Q     Max \n",
       "-3316.2 -1193.8   -53.6  1226.4  4254.0 \n",
       "\n",
       "Coefficients:\n",
       "                         Estimate Std. Error t value Pr(>|t|)    \n",
       "(Intercept)               12226.5      331.4  36.890   <2e-16 ***\n",
       "AlgoritmoAlgoritmo B        411.9      405.9   1.015    0.312    \n",
       "AlgoritmoAlgoritmo C       -106.7      405.9  -0.263    0.793    \n",
       "ComputadoraComputadora 2    107.6      331.4   0.325    0.746    \n",
       "---\n",
       "Signif. codes:  0 '***' 0.001 '**' 0.01 '*' 0.05 '.' 0.1 ' ' 1\n",
       "\n",
       "Residual standard error: 1815 on 116 degrees of freedom\n",
       "Multiple R-squared:  0.01633,\tAdjusted R-squared:  -0.009107 \n",
       "F-statistic: 0.642 on 3 and 116 DF,  p-value: 0.5895\n"
      ]
     },
     "metadata": {},
     "output_type": "display_data"
    },
    {
     "data": {
      "text/html": [
       "<table class=\"dataframe\">\n",
       "<caption>A anova: 3 × 4</caption>\n",
       "<thead>\n",
       "\t<tr><th></th><th scope=col>Sum Sq</th><th scope=col>Df</th><th scope=col>F value</th><th scope=col>Pr(&gt;F)</th></tr>\n",
       "\t<tr><th></th><th scope=col>&lt;dbl&gt;</th><th scope=col>&lt;dbl&gt;</th><th scope=col>&lt;dbl&gt;</th><th scope=col>&lt;dbl&gt;</th></tr>\n",
       "</thead>\n",
       "<tbody>\n",
       "\t<tr><th scope=row>Algoritmo</th><td>  5999899.5</td><td>  2</td><td>0.9103285</td><td>0.4052470</td></tr>\n",
       "\t<tr><th scope=row>Computadora</th><td>   347332.8</td><td>  1</td><td>0.1053974</td><td>0.7460309</td></tr>\n",
       "\t<tr><th scope=row>Residuals</th><td>382273164.9</td><td>116</td><td>       NA</td><td>       NA</td></tr>\n",
       "</tbody>\n",
       "</table>\n"
      ],
      "text/latex": [
       "A anova: 3 × 4\n",
       "\\begin{tabular}{r|llll}\n",
       "  & Sum Sq & Df & F value & Pr(>F)\\\\\n",
       "  & <dbl> & <dbl> & <dbl> & <dbl>\\\\\n",
       "\\hline\n",
       "\tAlgoritmo &   5999899.5 &   2 & 0.9103285 & 0.4052470\\\\\n",
       "\tComputadora &    347332.8 &   1 & 0.1053974 & 0.7460309\\\\\n",
       "\tResiduals & 382273164.9 & 116 &        NA &        NA\\\\\n",
       "\\end{tabular}\n"
      ],
      "text/markdown": [
       "\n",
       "A anova: 3 × 4\n",
       "\n",
       "| <!--/--> | Sum Sq &lt;dbl&gt; | Df &lt;dbl&gt; | F value &lt;dbl&gt; | Pr(&gt;F) &lt;dbl&gt; |\n",
       "|---|---|---|---|---|\n",
       "| Algoritmo |   5999899.5 |   2 | 0.9103285 | 0.4052470 |\n",
       "| Computadora |    347332.8 |   1 | 0.1053974 | 0.7460309 |\n",
       "| Residuals | 382273164.9 | 116 |        NA |        NA |\n",
       "\n"
      ],
      "text/plain": [
       "            Sum Sq      Df  F value   Pr(>F)   \n",
       "Algoritmo     5999899.5   2 0.9103285 0.4052470\n",
       "Computadora    347332.8   1 0.1053974 0.7460309\n",
       "Residuals   382273164.9 116        NA        NA"
      ]
     },
     "metadata": {},
     "output_type": "display_data"
    },
    {
     "data": {
      "image/png": "[encoded data removed]",
      "text/plain": [
       "plot without title"
      ]
     },
     "metadata": {
      "image/png": {
       "height": 420,
       "width": 420
      }
     },
     "output_type": "display_data"
    },
    {
     "data": {
      "image/png": "[encoded data removed]",
      "text/plain": [
       "Plot with title \"\""
      ]
     },
     "metadata": {
      "image/png": {
       "height": 420,
       "width": 420
      }
     },
     "output_type": "display_data"
    },
    {
     "data": {
      "image/png": "[encoded data removed]",
      "text/plain": [
       "plot without title"
      ]
     },
     "metadata": {
      "image/png": {
       "height": 420,
       "width": 420
      }
     },
     "output_type": "display_data"
    },
    {
     "data": {
      "image/png": "[encoded data removed]",
      "text/plain": [
       "Plot with title \"\""
      ]
     },
     "metadata": {
      "image/png": {
       "height": 420,
       "width": 420
      }
     },
     "output_type": "display_data"
    },
    {
     "data": {
      "image/png": "[encoded data removed]",
      "text/plain": [
       "Plot with title \"\""
      ]
     },
     "metadata": {
      "image/png": {
       "height": 420,
       "width": 420
      }
     },
     "output_type": "display_data"
    },
    {
     "data": {
      "image/png": "[encoded data removed]",
      "text/plain": [
       "Plot with title \"\""
      ]
     },
     "metadata": {
      "image/png": {
       "height": 420,
       "width": 420
      }
     },
     "output_type": "display_data"
    },
    {
     "data": {
      "text/plain": [
       " contrast                  estimate  SE  df t.ratio p.value\n",
       " Algoritmo A - Algoritmo B     -412 406 116  -1.015  0.5691\n",
       " Algoritmo A - Algoritmo C      107 406 116   0.263  0.9626\n",
       " Algoritmo B - Algoritmo C      519 406 116   1.278  0.4107\n",
       "\n",
       "Results are averaged over the levels of: Computadora \n",
       "P value adjustment: tukey method for comparing a family of 3 estimates "
      ]
     },
     "metadata": {},
     "output_type": "display_data"
    },
    {
     "name": "stderr",
     "output_type": "stream",
     "text": [
      "Loading required package: mvtnorm\n",
      "\n",
      "Loading required package: survival\n",
      "\n",
      "Loading required package: TH.data\n",
      "\n",
      "Loading required package: MASS\n",
      "\n",
      "\n",
      "Attaching package: 'TH.data'\n",
      "\n",
      "\n",
      "The following object is masked from 'package:MASS':\n",
      "\n",
      "    geyser\n",
      "\n",
      "\n",
      "Note: adjust = \"tukey\" was changed to \"sidak\"\n",
      "because \"tukey\" is only appropriate for one set of pairwise comparisons\n",
      "\n"
     ]
    },
    {
     "data": {
      "text/html": [
       "<table class=\"dataframe\">\n",
       "<caption>A summary_emm: 3 × 7</caption>\n",
       "<thead>\n",
       "\t<tr><th></th><th scope=col>Algoritmo</th><th scope=col>lsmean</th><th scope=col>SE</th><th scope=col>df</th><th scope=col>lower.CL</th><th scope=col>upper.CL</th><th scope=col>.group</th></tr>\n",
       "\t<tr><th></th><th scope=col>&lt;fct&gt;</th><th scope=col>&lt;dbl&gt;</th><th scope=col>&lt;dbl&gt;</th><th scope=col>&lt;dbl&gt;</th><th scope=col>&lt;dbl&gt;</th><th scope=col>&lt;dbl&gt;</th><th scope=col>&lt;chr&gt;</th></tr>\n",
       "</thead>\n",
       "<tbody>\n",
       "\t<tr><th scope=row>3</th><td>Algoritmo C</td><td>12173.65</td><td>287.0304</td><td>116</td><td>11478.26</td><td>12869.04</td><td> a</td></tr>\n",
       "\t<tr><th scope=row>1</th><td>Algoritmo A</td><td>12280.35</td><td>287.0304</td><td>116</td><td>11584.96</td><td>12975.74</td><td> a</td></tr>\n",
       "\t<tr><th scope=row>2</th><td>Algoritmo B</td><td>12692.25</td><td>287.0304</td><td>116</td><td>11996.86</td><td>13387.64</td><td> a</td></tr>\n",
       "</tbody>\n",
       "</table>\n"
      ],
      "text/latex": [
       "A summary\\_emm: 3 × 7\n",
       "\\begin{tabular}{r|lllllll}\n",
       "  & Algoritmo & lsmean & SE & df & lower.CL & upper.CL & .group\\\\\n",
       "  & <fct> & <dbl> & <dbl> & <dbl> & <dbl> & <dbl> & <chr>\\\\\n",
       "\\hline\n",
       "\t3 & Algoritmo C & 12173.65 & 287.0304 & 116 & 11478.26 & 12869.04 &  a\\\\\n",
       "\t1 & Algoritmo A & 12280.35 & 287.0304 & 116 & 11584.96 & 12975.74 &  a\\\\\n",
       "\t2 & Algoritmo B & 12692.25 & 287.0304 & 116 & 11996.86 & 13387.64 &  a\\\\\n",
       "\\end{tabular}\n"
      ],
      "text/markdown": [
       "\n",
       "A summary_emm: 3 × 7\n",
       "\n",
       "| <!--/--> | Algoritmo &lt;fct&gt; | lsmean &lt;dbl&gt; | SE &lt;dbl&gt; | df &lt;dbl&gt; | lower.CL &lt;dbl&gt; | upper.CL &lt;dbl&gt; | .group &lt;chr&gt; |\n",
       "|---|---|---|---|---|---|---|---|\n",
       "| 3 | Algoritmo C | 12173.65 | 287.0304 | 116 | 11478.26 | 12869.04 |  a |\n",
       "| 1 | Algoritmo A | 12280.35 | 287.0304 | 116 | 11584.96 | 12975.74 |  a |\n",
       "| 2 | Algoritmo B | 12692.25 | 287.0304 | 116 | 11996.86 | 13387.64 |  a |\n",
       "\n"
      ],
      "text/plain": [
       "  Algoritmo   lsmean   SE       df  lower.CL upper.CL .group\n",
       "3 Algoritmo C 12173.65 287.0304 116 11478.26 12869.04  a    \n",
       "1 Algoritmo A 12280.35 287.0304 116 11584.96 12975.74  a    \n",
       "2 Algoritmo B 12692.25 287.0304 116 11996.86 13387.64  a    "
      ]
     },
     "metadata": {},
     "output_type": "display_data"
    },
    {
     "data": {
      "image/png": "[encoded data removed]",
      "text/plain": [
       "Plot with title \"\""
      ]
     },
     "metadata": {
      "image/png": {
       "height": 420,
       "width": 420
      }
     },
     "output_type": "display_data"
    },
    {
     "data": {
      "image/png": "[encoded data removed]",
      "text/plain": [
       "plot without title"
      ]
     },
     "metadata": {
      "image/png": {
       "height": 420,
       "width": 420
      }
     },
     "output_type": "display_data"
    }
   ],
   "source": [
    "# ANOVA Monofactorial con bloques.\n",
    "\n",
    "# 1. Carga inicial de datos.\n",
    "\n",
    "if(!require(psych)){install.packages(\"psych\")}\n",
    "if(!require(FSA)){install.packages(\"FSA\")}\n",
    "if(!require(ggplot2)){install.packages(\"ggplot2\")}\n",
    "if(!require(car)){install.packages(\"car\")}\n",
    "if(!require(multcompView)){install.packages(\"multcompView\")}\n",
    "if(!require(lsmeans)){install.packages(\"lsmeans\")}\n",
    "if(!require(rcompanion)){install.packages(\"rcompanion\")}\n",
    "\n",
    "\n",
    "ln <- (\"\n",
    "Algoritmo       Computadora       Tiempo\n",
    "'Algoritmo A'  'Computadora 1'    12976\n",
    "'Algoritmo A'  'Computadora 1'    14854\n",
    "'Algoritmo A'  'Computadora 1'    13627\n",
    "'Algoritmo A'  'Computadora 1'     9850\n",
    "'Algoritmo A'  'Computadora 1'    14466\n",
    "'Algoritmo A'  'Computadora 1'    11598\n",
    "'Algoritmo A'  'Computadora 1'    13184\n",
    "'Algoritmo A'  'Computadora 1'    13096\n",
    "'Algoritmo A'  'Computadora 1'    14895\n",
    "'Algoritmo A'  'Computadora 1'    15986\n",
    "'Algoritmo A'  'Computadora 1'    12327\n",
    "'Algoritmo A'  'Computadora 1'    11168\n",
    "'Algoritmo A'  'Computadora 1'     9913\n",
    "'Algoritmo A'  'Computadora 1'    11698\n",
    "'Algoritmo A'  'Computadora 1'    16033\n",
    "'Algoritmo A'  'Computadora 1'    13763\n",
    "'Algoritmo A'  'Computadora 1'    10237\n",
    "'Algoritmo A'  'Computadora 1'    13208\n",
    "'Algoritmo A'  'Computadora 1'    15407\n",
    "'Algoritmo A'  'Computadora 1'    13587\n",
    "'Algoritmo A'  'Computadora 2'     9033\n",
    "'Algoritmo A'  'Computadora 2'    11253\n",
    "'Algoritmo A'  'Computadora 2'    11842\n",
    "'Algoritmo A'  'Computadora 2'     9018\n",
    "'Algoritmo A'  'Computadora 2'    11091\n",
    "'Algoritmo A'  'Computadora 2'    11143\n",
    "'Algoritmo A'  'Computadora 2'    12429\n",
    "'Algoritmo A'  'Computadora 2'    12456\n",
    "'Algoritmo A'  'Computadora 2'    12250\n",
    "'Algoritmo A'  'Computadora 2'    13449\n",
    "'Algoritmo A'  'Computadora 2'    11872\n",
    "'Algoritmo A'  'Computadora 2'    10463\n",
    "'Algoritmo A'  'Computadora 2'     9311\n",
    "'Algoritmo A'  'Computadora 2'     9677\n",
    "'Algoritmo A'  'Computadora 2'    12941\n",
    "'Algoritmo A'  'Computadora 2'    11260\n",
    "'Algoritmo A'  'Computadora 2'     9269\n",
    "'Algoritmo A'  'Computadora 2'    13926\n",
    "'Algoritmo A'  'Computadora 2'    14670\n",
    "'Algoritmo A'  'Computadora 2'    11988\n",
    "'Algoritmo B'  'Computadora 1'    11080\n",
    "'Algoritmo B'  'Computadora 1'    12089\n",
    "'Algoritmo B'  'Computadora 1'    12538\n",
    "'Algoritmo B'  'Computadora 1'    10571\n",
    "'Algoritmo B'  'Computadora 1'    12010\n",
    "'Algoritmo B'  'Computadora 1'    12598\n",
    "'Algoritmo B'  'Computadora 1'    13543\n",
    "'Algoritmo B'  'Computadora 1'    13547\n",
    "'Algoritmo B'  'Computadora 1'    13217\n",
    "'Algoritmo B'  'Computadora 1'    15297\n",
    "'Algoritmo B'  'Computadora 1'    12210\n",
    "'Algoritmo B'  'Computadora 1'    11299\n",
    "'Algoritmo B'  'Computadora 1'    10067\n",
    "'Algoritmo B'  'Computadora 1'    11279\n",
    "'Algoritmo B'  'Computadora 1'    14006\n",
    "'Algoritmo B'  'Computadora 1'    12099\n",
    "'Algoritmo B'  'Computadora 1'    11581\n",
    "'Algoritmo B'  'Computadora 1'    14012\n",
    "'Algoritmo B'  'Computadora 1'    15069\n",
    "'Algoritmo B'  'Computadora 1'    12000\n",
    "'Algoritmo B'  'Computadora 2'    12000\n",
    "'Algoritmo B'  'Computadora 2'    14011\n",
    "'Algoritmo B'  'Computadora 2'    13508\n",
    "'Algoritmo B'  'Computadora 2'     9506\n",
    "'Algoritmo B'  'Computadora 2'    14005\n",
    "'Algoritmo B'  'Computadora 2'    11514\n",
    "'Algoritmo B'  'Computadora 2'    13001\n",
    "'Algoritmo B'  'Computadora 2'    13220\n",
    "'Algoritmo B'  'Computadora 2'    14211\n",
    "'Algoritmo B'  'Computadora 2'    15016\n",
    "'Algoritmo B'  'Computadora 2'    12504\n",
    "'Algoritmo B'  'Computadora 2'    11501\n",
    "'Algoritmo B'  'Computadora 2'     9506\n",
    "'Algoritmo B'  'Computadora 2'    11514\n",
    "'Algoritmo B'  'Computadora 2'    16005\n",
    "'Algoritmo B'  'Computadora 2'    13018\n",
    "'Algoritmo B'  'Computadora 2'    10503\n",
    "'Algoritmo B'  'Computadora 2'    13015\n",
    "'Algoritmo B'  'Computadora 2'    17000\n",
    "'Algoritmo B'  'Computadora 2'    13020\n",
    "'Algoritmo C'  'Computadora 1'     9148\n",
    "'Algoritmo C'  'Computadora 1'    11247\n",
    "'Algoritmo C'  'Computadora 1'    11571\n",
    "'Algoritmo C'  'Computadora 1'     9212\n",
    "'Algoritmo C'  'Computadora 1'    11355\n",
    "'Algoritmo C'  'Computadora 1'    11848\n",
    "'Algoritmo C'  'Computadora 1'    12171\n",
    "'Algoritmo C'  'Computadora 1'    12360\n",
    "'Algoritmo C'  'Computadora 1'    12053\n",
    "'Algoritmo C'  'Computadora 1'    13219\n",
    "'Algoritmo C'  'Computadora 1'    11642\n",
    "'Algoritmo C'  'Computadora 1'    10918\n",
    "'Algoritmo C'  'Computadora 1'     9223\n",
    "'Algoritmo C'  'Computadora 1'     9574\n",
    "'Algoritmo C'  'Computadora 1'    12245\n",
    "'Algoritmo C'  'Computadora 1'    11781\n",
    "'Algoritmo C'  'Computadora 1'     9588\n",
    "'Algoritmo C'  'Computadora 1'    13093\n",
    "'Algoritmo C'  'Computadora 1'    14155\n",
    "'Algoritmo C'  'Computadora 1'    11309\n",
    "'Algoritmo C'  'Computadora 2'    12511\n",
    "'Algoritmo C'  'Computadora 2'    14375\n",
    "'Algoritmo C'  'Computadora 2'    13546\n",
    "'Algoritmo C'  'Computadora 2'     9962\n",
    "'Algoritmo C'  'Computadora 2'    14273\n",
    "'Algoritmo C'  'Computadora 2'    11515\n",
    "'Algoritmo C'  'Computadora 2'    13556\n",
    "'Algoritmo C'  'Computadora 2'    13121\n",
    "'Algoritmo C'  'Computadora 2'    14205\n",
    "'Algoritmo C'  'Computadora 2'    15424\n",
    "'Algoritmo C'  'Computadora 2'    12778\n",
    "'Algoritmo C'  'Computadora 2'    11096\n",
    "'Algoritmo C'  'Computadora 2'     9364\n",
    "'Algoritmo C'  'Computadora 2'    11521\n",
    "'Algoritmo C'  'Computadora 2'    16367\n",
    "'Algoritmo C'  'Computadora 2'    13060\n",
    "'Algoritmo C'  'Computadora 2'    10991\n",
    "'Algoritmo C'  'Computadora 2'    13048\n",
    "'Algoritmo C'  'Computadora 2'    15078\n",
    "'Algoritmo C'  'Computadora 2'    13443\"\n",
    ")\n",
    "\n",
    "# Se introduce la tabla.\n",
    "Data <- read.table(textConnection(ln), header=TRUE)\n",
    "\n",
    "# Se ordenan los datos según los ingresamos. (Evitar orden alfabético por R).\n",
    "Data$Algoritmo <- factor(Data$Algoritmo, levels = unique(Data$Algoritmo))\n",
    "Data$Computadora <- factor(Data$Computadora, levels = unique(Data$Computadora))\n",
    "\n",
    "# 2. Verificación de la lectura de datos.\n",
    "\n",
    "library(psych)\n",
    "headTail(Data)\n",
    "str(Data)\n",
    "summary(Data)\n",
    "rm(ln)\n",
    "\n",
    "# 3. Resumen organizado.\n",
    "\n",
    "# Se agrega \"+ Computadora\" para que la tabla aparezca como en clase.\n",
    "Summarize(Tiempo ~ Algoritmo + Computadora, data = Data, digits = 3)\n",
    "\n",
    "# 4. Diagrama de cajas\n",
    "\n",
    "M <- tapply(Data$Tiempo, INDEX = Data$Algoritmo, FUN = mean)\n",
    "boxplot(Tiempo ~ Algoritmo, data = Data)\n",
    "points(M, col = \"red\", pch = \"+\", cex = 2)\n",
    "\n",
    "boxplot(Tiempo ~ Algoritmo + Computadora, data = Data)\n",
    "\n",
    "# 5. Información de promedios e intervalos de confianza.\n",
    "\n",
    "Sum <- groupwiseMean(Tiempo ~ Algoritmo, data = Data, conf = 0.95, digits = 3, traditional = FALSE, percentile = TRUE)\n",
    "Sum\n",
    "\n",
    "# 6. Gráficos de promedios e intervalos de confianza.\n",
    "\n",
    "library(ggplot2)\n",
    "ggplot(Sum,\n",
    "       aes(x = Algoritmo, y = Mean)) +\n",
    "       geom_errorbar(aes(ymin = Percentile.lower,\n",
    "                         ymax = Percentile.upper),\n",
    "                         width = 0.05, size = 0.5) +\n",
    "                    geom_point(shape = 15,\n",
    "                               size = 4) +\n",
    "                    theme_bw() +\n",
    "                    theme(axis.title = element_text(face = \"bold\")) +\n",
    "                    ylab(\"Tiempo promedio, s\")\n",
    "\n",
    "# 6.1 Información de promedios e intervalos de confianza, cambio para considerar la computadora.\n",
    "\n",
    "Sum <- groupwiseMean(Tiempo ~ Algoritmo + Computadora,\n",
    "                     data = Data, conf = 0.95,\n",
    "                     digits = 3, traditional = FALSE,\n",
    "                     percentile = TRUE)\n",
    "Sum\n",
    "\n",
    "ggplot(Sum,\n",
    "       aes(x = Algoritmo, y = Mean)) +\n",
    "       geom_errorbar(aes(ymin = Percentile.lower,\n",
    "                         ymax = Percentile.upper),\n",
    "                         width = 0.05, size = 0.5) +\n",
    "                    geom_point(shape = 15,\n",
    "                               size = 4) +\n",
    "                    theme_bw() +\n",
    "                    theme(axis.title = element_text(face = \"bold\")) +\n",
    "                    ylab(\"Tiempo promedio, s\")\n",
    "\n",
    "# 7. Modelo lineal.\n",
    "\n",
    "model <- lm(Tiempo ~ Algoritmo + Computadora, data = Data)\n",
    "summary(model)\n",
    "\n",
    "# 8. ANOVA.\n",
    "\n",
    "library(car)\n",
    "Anova(model, type = \"II\")\n",
    "\n",
    "# 9. Histograma de residuos.\n",
    "\n",
    "x <- residuals(model)\n",
    "library(rcompanion)\n",
    "\n",
    "plotNormalHistogram(x)\n",
    "plot(fitted(model), residuals(model))\n",
    "plot(model)\n",
    "\n",
    "# 10. Análisis post-hoc\n",
    "\n",
    "library(multcompView)\n",
    "library(lsmeans)\n",
    "marginal <- lsmeans(model, ~ Algoritmo)\n",
    "pairs(marginal, adjust=\"tukey\")\n",
    "\n",
    "# Funcion cld\n",
    "\n",
    "library(multcomp)\n",
    "CLD <- cld(marginal, alpha = 0.05, Letters = letters, adjust = \"tukey\")\n",
    "CLD\n",
    "\n",
    "# Gráfico promedios, intervalos de confianza y letras de separación\n",
    "CLD$Algoritmo <- factor(CLD$Algoritmo, levels = c(\"Algoritmo A\", \"Algoritmo B\", \"Algoritmo C\"))\n",
    "CLD$.group <- gsub(\" \", \"\", CLD$.group)\n",
    "\n",
    "library(ggplot2)\n",
    "ggplot(CLD,\n",
    "       aes( x = Algoritmo,\n",
    "            y = lsmean,\n",
    "            label = .group)) +\n",
    "       geom_point(shape = 15, size = 4) +\n",
    "       geom_errorbar(aes(ymin = lower.CL,\n",
    "                         ymax = upper.CL),\n",
    "                         width = 0.2,\n",
    "                         size = 0.7) +\n",
    "       theme_bw() +\n",
    "       theme(axis.title = element_text(face = \"bold\"),\n",
    "             axis.text = element_text(face = \"bold\"),\n",
    "             plot.caption = element_text(hjust = 0)) +\n",
    "\n",
    "       ylab(\"Promedio del minimo cuadrado \\n\n",
    "             Tiempo de ejecucion\") +\n",
    "\n",
    "       geom_text(nudge_x = c(0,0,0),\n",
    "                 nudge_y = c(1100, 1100, 1100),\n",
    "                 color = \"black\")\n"
   ]
  },
  {
   "cell_type": "code",
   "execution_count": null,
   "id": "8e52e323",
   "metadata": {},
   "outputs": [],
   "source": []
  }
 ],
 "metadata": {
  "kernelspec": {
   "display_name": "R",
   "language": "R",
   "name": "ir"
  },
  "language_info": {
   "codemirror_mode": "r",
   "file_extension": ".r",
   "mimetype": "text/x-r-source",
   "name": "R",
   "pygments_lexer": "r",
   "version": "4.2.2"
  }
 },
 "nbformat": 4,
 "nbformat_minor": 5
}
