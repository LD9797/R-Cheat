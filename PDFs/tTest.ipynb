{
 "cells": [
  {
   "cell_type": "code",
   "execution_count": 1,
   "id": "dc9aa2a8",
   "metadata": {},
   "outputs": [
    {
     "name": "stderr",
     "output_type": "stream",
     "text": [
      "Loading required package: psych\n",
      "\n",
      "Loading required package: FSA\n",
      "\n",
      "## FSA v0.9.4. See citation('FSA') if used in publication.\n",
      "## Run fishR() for related website and fishR('IFAR') for related book.\n",
      "\n",
      "\n",
      "Attaching package: 'FSA'\n",
      "\n",
      "\n",
      "The following object is masked from 'package:psych':\n",
      "\n",
      "    headtail\n",
      "\n",
      "\n",
      "Loading required package: lattice\n",
      "\n",
      "Loading required package: lsr\n",
      "\n",
      "Loading required package: rcompanion\n",
      "\n",
      "\n",
      "Attaching package: 'rcompanion'\n",
      "\n",
      "\n",
      "The following object is masked from 'package:psych':\n",
      "\n",
      "    phi\n",
      "\n",
      "\n"
     ]
    },
    {
     "data": {
      "text/html": [
       "<table class=\"dataframe\">\n",
       "<caption>A data.frame: 9 × 3</caption>\n",
       "<thead>\n",
       "\t<tr><th></th><th scope=col>Algoritmo</th><th scope=col>Ejecucion</th><th scope=col>Tiempo</th></tr>\n",
       "\t<tr><th></th><th scope=col>&lt;chr&gt;</th><th scope=col>&lt;chr&gt;</th><th scope=col>&lt;chr&gt;</th></tr>\n",
       "</thead>\n",
       "<tbody>\n",
       "\t<tr><th scope=row>1</th><td>Algoritmo A</td><td>1  </td><td>12070</td></tr>\n",
       "\t<tr><th scope=row>2</th><td>Algoritmo A</td><td>2  </td><td>14040</td></tr>\n",
       "\t<tr><th scope=row>3</th><td>Algoritmo A</td><td>3  </td><td>13580</td></tr>\n",
       "\t<tr><th scope=row>4</th><td>Algoritmo A</td><td>4  </td><td>9540 </td></tr>\n",
       "\t<tr><th scope=row>...</th><td>NA         </td><td>...</td><td>...  </td></tr>\n",
       "\t<tr><th scope=row>37</th><td>Algoritmo B</td><td>17 </td><td>11580</td></tr>\n",
       "\t<tr><th scope=row>38</th><td>Algoritmo B</td><td>18 </td><td>14070</td></tr>\n",
       "\t<tr><th scope=row>39</th><td>Algoritmo B</td><td>19 </td><td>15050</td></tr>\n",
       "\t<tr><th scope=row>40</th><td>Algoritmo B</td><td>20 </td><td>12050</td></tr>\n",
       "</tbody>\n",
       "</table>\n"
      ],
      "text/latex": [
       "A data.frame: 9 × 3\n",
       "\\begin{tabular}{r|lll}\n",
       "  & Algoritmo & Ejecucion & Tiempo\\\\\n",
       "  & <chr> & <chr> & <chr>\\\\\n",
       "\\hline\n",
       "\t1 & Algoritmo A & 1   & 12070\\\\\n",
       "\t2 & Algoritmo A & 2   & 14040\\\\\n",
       "\t3 & Algoritmo A & 3   & 13580\\\\\n",
       "\t4 & Algoritmo A & 4   & 9540 \\\\\n",
       "\t... & NA          & ... & ...  \\\\\n",
       "\t37 & Algoritmo B & 17  & 11580\\\\\n",
       "\t38 & Algoritmo B & 18  & 14070\\\\\n",
       "\t39 & Algoritmo B & 19  & 15050\\\\\n",
       "\t40 & Algoritmo B & 20  & 12050\\\\\n",
       "\\end{tabular}\n"
      ],
      "text/markdown": [
       "\n",
       "A data.frame: 9 × 3\n",
       "\n",
       "| <!--/--> | Algoritmo &lt;chr&gt; | Ejecucion &lt;chr&gt; | Tiempo &lt;chr&gt; |\n",
       "|---|---|---|---|\n",
       "| 1 | Algoritmo A | 1   | 12070 |\n",
       "| 2 | Algoritmo A | 2   | 14040 |\n",
       "| 3 | Algoritmo A | 3   | 13580 |\n",
       "| 4 | Algoritmo A | 4   | 9540  |\n",
       "| ... | NA          | ... | ...   |\n",
       "| 37 | Algoritmo B | 17  | 11580 |\n",
       "| 38 | Algoritmo B | 18  | 14070 |\n",
       "| 39 | Algoritmo B | 19  | 15050 |\n",
       "| 40 | Algoritmo B | 20  | 12050 |\n",
       "\n"
      ],
      "text/plain": [
       "    Algoritmo   Ejecucion Tiempo\n",
       "1   Algoritmo A 1         12070 \n",
       "2   Algoritmo A 2         14040 \n",
       "3   Algoritmo A 3         13580 \n",
       "4   Algoritmo A 4         9540  \n",
       "... NA          ...       ...   \n",
       "37  Algoritmo B 17        11580 \n",
       "38  Algoritmo B 18        14070 \n",
       "39  Algoritmo B 19        15050 \n",
       "40  Algoritmo B 20        12050 "
      ]
     },
     "metadata": {},
     "output_type": "display_data"
    },
    {
     "name": "stdout",
     "output_type": "stream",
     "text": [
      "'data.frame':\t40 obs. of  3 variables:\n",
      " $ Algoritmo: chr  \"Algoritmo A\" \"Algoritmo A\" \"Algoritmo A\" \"Algoritmo A\" ...\n",
      " $ Ejecucion: int  1 2 3 4 5 6 7 8 9 10 ...\n",
      " $ Tiempo   : int  12070 14040 13580 9540 14070 11520 13030 13245 14215 15070 ...\n"
     ]
    },
    {
     "data": {
      "text/plain": [
       "  Algoritmo           Ejecucion         Tiempo     \n",
       " Length:40          Min.   : 1.00   Min.   : 9540  \n",
       " Class :character   1st Qu.: 5.75   1st Qu.:11535  \n",
       " Mode  :character   Median :10.50   Median :12565  \n",
       "                    Mean   :10.50   Mean   :12707  \n",
       "                    3rd Qu.:15.25   3rd Qu.:13695  \n",
       "                    Max.   :20.00   Max.   :17080  "
      ]
     },
     "metadata": {},
     "output_type": "display_data"
    },
    {
     "data": {
      "text/html": [
       "<table class=\"dataframe\">\n",
       "<caption>A data.frame: 2 × 9</caption>\n",
       "<thead>\n",
       "\t<tr><th scope=col>Algoritmo</th><th scope=col>n</th><th scope=col>mean</th><th scope=col>sd</th><th scope=col>min</th><th scope=col>Q1</th><th scope=col>median</th><th scope=col>Q3</th><th scope=col>max</th></tr>\n",
       "\t<tr><th scope=col>&lt;chr&gt;</th><th scope=col>&lt;dbl&gt;</th><th scope=col>&lt;dbl&gt;</th><th scope=col>&lt;dbl&gt;</th><th scope=col>&lt;dbl&gt;</th><th scope=col>&lt;dbl&gt;</th><th scope=col>&lt;dbl&gt;</th><th scope=col>&lt;dbl&gt;</th><th scope=col>&lt;dbl&gt;</th></tr>\n",
       "</thead>\n",
       "<tbody>\n",
       "\t<tr><td>Algoritmo A</td><td>20</td><td>12916.50</td><td>1942.198</td><td> 9540</td><td>11535.00</td><td>13025.0</td><td>14047.5</td><td>17080</td></tr>\n",
       "\t<tr><td>Algoritmo B</td><td>20</td><td>12498.25</td><td>1422.549</td><td>10040</td><td>11508.75</td><td>12157.5</td><td>13525.0</td><td>15235</td></tr>\n",
       "</tbody>\n",
       "</table>\n"
      ],
      "text/latex": [
       "A data.frame: 2 × 9\n",
       "\\begin{tabular}{lllllllll}\n",
       " Algoritmo & n & mean & sd & min & Q1 & median & Q3 & max\\\\\n",
       " <chr> & <dbl> & <dbl> & <dbl> & <dbl> & <dbl> & <dbl> & <dbl> & <dbl>\\\\\n",
       "\\hline\n",
       "\t Algoritmo A & 20 & 12916.50 & 1942.198 &  9540 & 11535.00 & 13025.0 & 14047.5 & 17080\\\\\n",
       "\t Algoritmo B & 20 & 12498.25 & 1422.549 & 10040 & 11508.75 & 12157.5 & 13525.0 & 15235\\\\\n",
       "\\end{tabular}\n"
      ],
      "text/markdown": [
       "\n",
       "A data.frame: 2 × 9\n",
       "\n",
       "| Algoritmo &lt;chr&gt; | n &lt;dbl&gt; | mean &lt;dbl&gt; | sd &lt;dbl&gt; | min &lt;dbl&gt; | Q1 &lt;dbl&gt; | median &lt;dbl&gt; | Q3 &lt;dbl&gt; | max &lt;dbl&gt; |\n",
       "|---|---|---|---|---|---|---|---|---|\n",
       "| Algoritmo A | 20 | 12916.50 | 1942.198 |  9540 | 11535.00 | 13025.0 | 14047.5 | 17080 |\n",
       "| Algoritmo B | 20 | 12498.25 | 1422.549 | 10040 | 11508.75 | 12157.5 | 13525.0 | 15235 |\n",
       "\n"
      ],
      "text/plain": [
       "  Algoritmo   n  mean     sd       min   Q1       median  Q3      max  \n",
       "1 Algoritmo A 20 12916.50 1942.198  9540 11535.00 13025.0 14047.5 17080\n",
       "2 Algoritmo B 20 12498.25 1422.549 10040 11508.75 12157.5 13525.0 15235"
      ]
     },
     "metadata": {},
     "output_type": "display_data"
    },
    {
     "data": {
      "image/png": "[encoded data removed]",
      "text/plain": [
       "Plot with title \"\""
      ]
     },
     "metadata": {
      "image/png": {
       "height": 420,
       "width": 420
      }
     },
     "output_type": "display_data"
    },
    {
     "data": {
      "image/png": "[encoded data removed]",
      "text/plain": [
       "Plot with title \"\""
      ]
     },
     "metadata": {
      "image/png": {
       "height": 420,
       "width": 420
      }
     },
     "output_type": "display_data"
    },
    {
     "data": {
      "text/plain": [
       "\n",
       "\tWelch Two Sample t-test\n",
       "\n",
       "data:  Tiempo by Algoritmo\n",
       "t = 0.77695, df = 34.83, p-value = 0.4424\n",
       "alternative hypothesis: true difference in means between group Algoritmo A and group Algoritmo B is not equal to 0\n",
       "95 percent confidence interval:\n",
       " -674.7892 1511.2892\n",
       "sample estimates:\n",
       "mean in group Algoritmo A mean in group Algoritmo B \n",
       "                 12916.50                  12498.25 \n"
      ]
     },
     "metadata": {},
     "output_type": "display_data"
    },
    {
     "data": {
      "image/png": "[encoded data removed]",
      "text/plain": [
       "plot without title"
      ]
     },
     "metadata": {
      "image/png": {
       "height": 420,
       "width": 420
      }
     },
     "output_type": "display_data"
    }
   ],
   "source": [
    "# t-Test\n",
    "\n",
    "# 1. Carga de datos\n",
    "\n",
    "# Librerias\n",
    "if(!require(psych)){install.packages(\"psych\")}\n",
    "if(!require(FSA)){install.packages(\"FSA\")}\n",
    "if(!require(lattice)){install.packages(\"lattice\")}\n",
    "if(!require(lsr)){install.packages(\"lsr\")}\n",
    "if(!require(rcompanion)){install.packages(\"rcompanion\")}\n",
    "\n",
    "# Ingreso de los datos\n",
    "Datos <- (\"\n",
    "Algoritmo     Ejecucion  Tiempo\n",
    "'Algoritmo A'   '1'       12070\n",
    "'Algoritmo A'   '2'       14040\n",
    "'Algoritmo A'   '3'       13580\n",
    "'Algoritmo A'   '4'        9540\n",
    "'Algoritmo A'   '5'       14070\n",
    "'Algoritmo A'   '6'       11520\n",
    "'Algoritmo A'   '7'       13030\n",
    "'Algoritmo A'   '8'       13245\n",
    "'Algoritmo A'   '9'       14215\n",
    "'Algoritmo A'   '10'      15070\n",
    "'Algoritmo A'   '11'      12580\n",
    "'Algoritmo A'   '12'      11540\n",
    "'Algoritmo A'   '13'       9580\n",
    "'Algoritmo A'   '14'      11510\n",
    "'Algoritmo A'   '15'      16070\n",
    "'Algoritmo A'   '16'      13010\n",
    "'Algoritmo A'   '17'      10530\n",
    "'Algoritmo A'   '18'      13030\n",
    "'Algoritmo A'   '19'      17080\n",
    "'Algoritmo A'   '20'      13020\n",
    "'Algoritmo B'   '1'       11070\n",
    "'Algoritmo B'   '2'       12010\n",
    "'Algoritmo B'   '3'       12550\n",
    "'Algoritmo B'   '4'       10500\n",
    "'Algoritmo B'   '5'       12000\n",
    "'Algoritmo B'   '6'       12520\n",
    "'Algoritmo B'   '7'       13520\n",
    "'Algoritmo B'   '8'       13540\n",
    "'Algoritmo B'   '9'       13255\n",
    "'Algoritmo B'   '10'      15235\n",
    "'Algoritmo B'   '11'      12235\n",
    "'Algoritmo B'   '12'      11285\n",
    "'Algoritmo B'   '13'      10040\n",
    "'Algoritmo B'   '14'      11295\n",
    "'Algoritmo B'   '15'      14080\n",
    "'Algoritmo B'   '16'      12080\n",
    "'Algoritmo B'   '17'      11580\n",
    "'Algoritmo B'   '18'      14070\n",
    "'Algoritmo B'   '19'      15050\n",
    "'Algoritmo B'   '20'      12050 \")\n",
    "\n",
    "# 2. Lectura de datos\n",
    "\n",
    "Data <- read.table(textConnection(Datos), header=TRUE)\n",
    "rm(Datos)\n",
    "\n",
    "library(psych)\n",
    "headTail(Data) # Ordenar datos de mayor a menor\n",
    "\n",
    "str(Data) # Desplegar de manera compacta\n",
    "summary(Data) # La estructura del objecto - Verificar que los datos estén correctos\n",
    "\n",
    "# 3. Resumen organizado\n",
    "\n",
    "library(FSA)\n",
    "Summarize(Tiempo ~ Algoritmo, data = Data, digits = 4)\n",
    "\n",
    "\n",
    "# 4. Análisis de normalidad (histograma + curva normal) Muestras por aparte\n",
    "\n",
    "# -- Se analiza la normalidad en los datos y se verifica si existe normalidad en los datos.\n",
    "A <- Data$Tiempo[Data$Algoritmo == \"Algoritmo A\"]\n",
    "B <- Data$Tiempo[Data$Algoritmo == \"Algoritmo B\"]\n",
    "\n",
    "library(rcompanion)\n",
    "plotNormalHistogram(A)\n",
    "plotNormalHistogram(B)\n",
    "\n",
    "# 5. Diagrama de cajas\n",
    "\n",
    "M <- tapply(Data$Tiempo, INDEX = Data$Algoritmo, FUN = mean)\n",
    "boxplot(Tiempo ~ Algoritmo, data = Data)\n",
    "points(M, col = \"red\", pch = \"+\", cex = 2)\n",
    "\n",
    "# 6. Prueba t\n",
    "\n",
    "t.test(Tiempo ~ Algoritmo, data = Data)"
   ]
  },
  {
   "cell_type": "code",
   "execution_count": null,
   "id": "a7376e9d",
   "metadata": {},
   "outputs": [],
   "source": []
  }
 ],
 "metadata": {
  "kernelspec": {
   "display_name": "R",
   "language": "R",
   "name": "ir"
  },
  "language_info": {
   "codemirror_mode": "r",
   "file_extension": ".r",
   "mimetype": "text/x-r-source",
   "name": "R",
   "pygments_lexer": "r",
   "version": "4.2.2"
  }
 },
 "nbformat": 4,
 "nbformat_minor": 5
}
